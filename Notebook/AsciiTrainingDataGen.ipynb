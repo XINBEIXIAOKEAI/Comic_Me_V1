{
  "nbformat": 4,
  "nbformat_minor": 0,
  "metadata": {
    "colab": {
      "name": "AsciiTrainingDataGen.ipynb",
      "provenance": []
    },
    "kernelspec": {
      "name": "python3",
      "display_name": "Python 3"
    },
    "language_info": {
      "name": "python"
    }
  },
  "cells": [
    {
      "cell_type": "code",
      "metadata": {
        "id": "PnQuWtPksufv"
      },
      "source": [
        "#Example of loading image automatically\n",
        "#https://picsum.photos/ \n",
        "from PIL import Image\n",
        "import requests\n",
        "im = Image.open(requests.get('https://picsum.photos/512/512', stream=True).raw)"
      ],
      "execution_count": 3,
      "outputs": []
    },
    {
      "cell_type": "code",
      "metadata": {
        "id": "s1x1toGQs8wO"
      },
      "source": [
        "im.save('imm.jpg')"
      ],
      "execution_count": 5,
      "outputs": []
    },
    {
      "cell_type": "code",
      "metadata": {
        "colab": {
          "base_uri": "https://localhost:8080/"
        },
        "id": "dGtNKuCltCpe",
        "outputId": "1c35821b-0175-416d-8dfb-24e1566e8b29"
      },
      "source": [
        "from google.colab import drive\n",
        "drive.mount('/content/drive')"
      ],
      "execution_count": 19,
      "outputs": [
        {
          "output_type": "stream",
          "text": [
            "Drive already mounted at /content/drive; to attempt to forcibly remount, call drive.mount(\"/content/drive\", force_remount=True).\n"
          ],
          "name": "stdout"
        }
      ]
    },
    {
      "cell_type": "code",
      "metadata": {
        "colab": {
          "base_uri": "https://localhost:8080/"
        },
        "id": "YSUWGmAftSof",
        "outputId": "633f5820-1775-474d-85f4-60384a344c39"
      },
      "source": [
        "#https://gist.github.com/wshanshan/c825efca4501a491447056849dd207d6\n",
        "!pip install colour"
      ],
      "execution_count": 20,
      "outputs": [
        {
          "output_type": "stream",
          "text": [
            "Requirement already satisfied: colour in /usr/local/lib/python3.7/dist-packages (0.1.5)\n"
          ],
          "name": "stdout"
        }
      ]
    },
    {
      "cell_type": "code",
      "metadata": {
        "id": "sKyPsdAZtmJr"
      },
      "source": [
        "from PIL import Image, ImageDraw, ImageFont\n",
        "from colour import Color\n",
        "import numpy as np"
      ],
      "execution_count": 21,
      "outputs": []
    },
    {
      "cell_type": "code",
      "metadata": {
        "id": "5GZVLDd2trYk"
      },
      "source": [
        "def asciiart(in_f, SC, GCF,  out_f, color1='black', color2='blue', bgcolor='white'):\n",
        "\n",
        "    # The array of ascii symbols from white to black\n",
        "    chars = np.asarray(list(' .,:irs?@9B&#'))\n",
        "\n",
        "    # Load the fonts and then get the the height and width of a typical symbol \n",
        "    # You can use different fonts here\n",
        "    font = ImageFont.load_default()\n",
        "    letter_width = font.getsize(\"x\")[0]\n",
        "    letter_height = font.getsize(\"x\")[1]\n",
        "\n",
        "    WCF = letter_height/letter_width\n",
        "\n",
        "    #open the input file\n",
        "    #img = Image.open(in_f)\n",
        "    img = in_f\n",
        "\n",
        "    widthByLetter=round(img.size[0]*SC*WCF)\n",
        "    heightByLetter = round(img.size[1]*SC)\n",
        "    S = (widthByLetter, heightByLetter)\n",
        "\n",
        "    #Resize the image based on the symbol width and height\n",
        "    img = img.resize(S)\n",
        "    \n",
        "    img = np.sum(np.asarray(img), axis=2)\n",
        "    \n",
        "    # Normalize the results, enhance and reduce the brightness contrast. \n",
        "    # Map grayscale values to bins of symbols\n",
        "    img -= img.min()\n",
        "    img = (1.0 - img/img.max())**GCF*(chars.size-1)\n",
        "    \n",
        "    # Generate the ascii art symbols \n",
        "    lines = (\"\\n\".join( (\"\".join(r) for r in chars[img.astype(int)]) )).split(\"\\n\")\n",
        "\n",
        "    # Create gradient color bins\n",
        "    nbins = len(lines)\n",
        "    colorRange =list(Color(color1).range_to(Color(color2), nbins))\n",
        "\n",
        "    #Create an image object, set its width and height\n",
        "    newImg_width= letter_width *widthByLetter\n",
        "    newImg_height = letter_height * heightByLetter\n",
        "    newImg = Image.new(\"RGBA\", (newImg_width, newImg_height), bgcolor)\n",
        "    draw = ImageDraw.Draw(newImg)\n",
        "\n",
        "    # Print symbols to image\n",
        "    leftpadding=0\n",
        "    y = 0\n",
        "    lineIdx=0\n",
        "    for line in lines:\n",
        "        color = colorRange[lineIdx]\n",
        "        lineIdx +=1\n",
        "\n",
        "        draw.text((leftpadding, y), line, color.hex, font=font)\n",
        "        y += letter_height\n",
        "\n",
        "    # Save the image file\n",
        "\n",
        "    #out_f = out_f.resize((1280,720))\n",
        "    newImg.save(out_f)"
      ],
      "execution_count": 22,
      "outputs": []
    },
    {
      "cell_type": "code",
      "metadata": {
        "id": "fLCo7dqNtwJe"
      },
      "source": [
        "def imgGen(img1,count):\n",
        "  inputf = img1  # Input image file name\n",
        "\n",
        "  SC = 0.1    # pixel sampling rate in width\n",
        "  GCF= 2      # contrast adjustment\n",
        "\n",
        "  asciiart(inputf, SC, GCF, \"results.png\")   #default color, black to blue\n",
        "  asciiart(inputf, SC, GCF, \"results_pink.png\",\"blue\",\"pink\")\n",
        "  img = img1\n",
        "  img2 = Image.open('results.png').resize(img.size)\n",
        "  img2.save('result.png')\n",
        "  img3 = Image.open('results_pink.png').resize(img.size)\n",
        "  img3.save('resultp.png')\n",
        "\n",
        "  images = [img2,img]#change\n",
        "  widths, heights = zip(*(i.size for i in images))\n",
        "\n",
        "  total_width = sum(widths)\n",
        "  max_height = max(heights)\n",
        "\n",
        "  new_im = Image.new('RGB', (total_width, max_height))\n",
        "\n",
        "  x_offset = 0\n",
        "  for im in images:\n",
        "    new_im.paste(im, (x_offset,0))\n",
        "    x_offset += im.size[0]\n",
        "\n",
        "  img4 = new_im.resize((1024,512))\n",
        "  img4.save('drive/MyDrive/trainingAsciiGan/w11'+str(count)+'.jpg')\n",
        "\n",
        "  images = [img3,img]#change\n",
        "  widths, heights = zip(*(i.size for i in images))\n",
        "\n",
        "  total_width = sum(widths)\n",
        "  max_height = max(heights)\n",
        "\n",
        "  new_im = Image.new('RGB', (total_width, max_height))\n",
        "\n",
        "  x_offset = 0\n",
        "  for im in images:\n",
        "    new_im.paste(im, (x_offset,0))\n",
        "    x_offset += im.size[0]\n",
        "\n",
        "  img5 = new_im.resize((1024,512))\n",
        "  img5.save('drive/MyDrive/trainingAsciiGan/w12'+str(count+1)+'.jpg')"
      ],
      "execution_count": 23,
      "outputs": []
    },
    {
      "cell_type": "code",
      "metadata": {
        "id": "UEXdqwNcuCyh"
      },
      "source": [
        "import os\n",
        "count = 0\n",
        "while count < 200:\n",
        "  im = Image.open(requests.get('https://picsum.photos/512/512', stream=True).raw)\n",
        "  imgGen(im,count)\n",
        "  count += 1"
      ],
      "execution_count": 24,
      "outputs": []
    },
    {
      "cell_type": "code",
      "metadata": {
        "id": "cBHHAUAHurxU"
      },
      "source": [
        ""
      ],
      "execution_count": null,
      "outputs": []
    }
  ]
}
